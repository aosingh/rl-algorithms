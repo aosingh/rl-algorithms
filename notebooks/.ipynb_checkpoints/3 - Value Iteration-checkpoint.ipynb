{
 "cells": [
  {
   "cell_type": "markdown",
   "metadata": {},
   "source": [
    "## Value iteration \n",
    "\n",
    "Value iteration is a method of computing the value of an optimal Markov Decision Process(MDP) policy.\n",
    "The basic algorithm is given below"
   ]
  },
  {
   "cell_type": "markdown",
   "metadata": {},
   "source": [
    "Let \n",
    "1. $S$ be the set of states, \n",
    "2. $v$ be the value function. We denote the $i^{th}$ iteration of the value function using $v^i$.\n",
    "3. $C(s, a)$ denote the contribution function which is a function of the state s and action(decision) a\n",
    "4. $\\gamma$ denote the discount factor"
   ]
  },
  {
   "cell_type": "markdown",
   "metadata": {},
   "source": [
    "\n",
    "\n",
    "**Step 0. Initialization**:\n",
    "\\begin{align}\n",
    "        \\text{Set }v^0(s) = 0  :      \\forall{s} \\text{ }\\epsilon\\text{ }S\n",
    "\\end{align}\n",
    "\\begin{align}\n",
    "         \\text{Fix a tolerance parameter } \\epsilon > 0\n",
    "\\end{align}\n",
    "        "
   ]
  },
  {
   "cell_type": "markdown",
   "metadata": {},
   "source": [
    "**Step 1. For each ${s} \\text{ }\\epsilon\\text{ }S$:**\n",
    "\\begin{align}\n",
    "    v^n(s) = max_{a \\text{ }\\epsilon\\text{ }A}(C(s, a) + \\gamma \\sum_{s^{\\prime} \\text{ }\\epsilon\\text{ }S} P(s^{\\prime} |s, a)v^{n-1}(s^{\\prime}))\n",
    "\\end{align}"
   ]
  },
  {
   "cell_type": "markdown",
   "metadata": {},
   "source": [
    "**Step 2.**\n",
    "\\begin{align}\n",
    "   \\text{if } || v^{n} - v^{n-1}|| < \\epsilon(1 - \\gamma)/2\\gamma \\text{, let } \\pi_{\\epsilon} \\text{ be the resulting policy which solves the equation mentioned at Step 1, and let } v_{\\epsilon} = v_{n} \\text{ and stop.}\n",
    "\\end{align}\n",
    "\\begin{align}\n",
    "    \\text{else set } n = n + 1 \\text{ and go to Step 1}\n",
    "\\end{align}"
   ]
  },
  {
   "cell_type": "markdown",
   "metadata": {},
   "source": [
    "Please note that we stop the algorithm when $$|| v^{n} - v^{n-1}|| < \\epsilon(1 - \\gamma)/2\\gamma $$"
   ]
  },
  {
   "cell_type": "markdown",
   "metadata": {},
   "source": [
    "Here $||v||$ is the max-norm defined by $$||v|| = max_{s}|v(s)|$$"
   ]
  },
  {
   "cell_type": "markdown",
   "metadata": {},
   "source": [
    "**Example**\n",
    "\n",
    "Consider a 2 stage Markov chain with the following one step transition matrix\n",
    "\n",
    "\\begin{equation*}\n",
    "    P = \\begin{vmatrix}\n",
    "    0.7 & 0.3 \\\\\n",
    "    0.05 & 0.95\n",
    "    \\end{vmatrix}\n",
    "\\end{equation*}"
   ]
  },
  {
   "cell_type": "markdown",
   "metadata": {},
   "source": [
    "The Contribution from each transition from state $i \\text{ } \\epsilon \\{1, 2\\}$ to state $j \\text{ } \\epsilon \\{1, 2\\}$ is"
   ]
  },
  {
   "cell_type": "markdown",
   "metadata": {},
   "source": [
    "\\begin{equation*}\n",
    "C = \\begin{vmatrix}\n",
    "10 & 30 \\\\\n",
    "20 & 5\n",
    "\\end{vmatrix}\n",
    "\\end{equation*}"
   ]
  },
  {
   "cell_type": "markdown",
   "metadata": {},
   "source": [
    "Let us apply the value iteration algorithm for an infinite horizon problem. \n",
    "Please note that, for this exercise, we are not choosing a decision so, there won't be any maximisation step."
   ]
  },
  {
   "cell_type": "code",
   "execution_count": 13,
   "metadata": {},
   "outputs": [],
   "source": [
    "from collections import defaultdict\n",
    "\n",
    "class ValueIterationSimulator:\n",
    "    \"\"\"\n",
    "    This class is a simulation of the steps that we do to perform Value iteration.\n",
    "    \"\"\"\n",
    "    def __init__(self, states, C, P, gamma, initial_v):\n",
    "        \"\"\"\n",
    "        \"\"\"\n",
    "        self.states = states\n",
    "        self.C = C # The Contribution function\n",
    "        self.P = P # One Step Transition matrix\n",
    "        self.gamma = gamma # Discount Factor\n",
    "        self.v = defaultdict(dict) # Dictionary datastructure to store the value function for each iteration.\n",
    "        # For each state set the initial estimate of the value function.\n",
    "        for state, init_estimate in initial_v.items():\n",
    "            self.v[0][state] = init_estimate\n",
    "        \n",
    "    \n",
    "    def start(self, num_of_iterations=50):\n",
    "        for i in range(1, num_of_iterations+1):\n",
    "            for x in self.states:\n",
    "                expected_contribution = sum(C[x-1])/len(C[x-1])\n",
    "                expected_values = self.gamma * sum([self.P[x-1][y-1]*self.v[i-1][y] for y in self.states])\n",
    "                self.v[i][x] = expected_contribution + expected_values"
   ]
  },
  {
   "cell_type": "code",
   "execution_count": 16,
   "metadata": {},
   "outputs": [],
   "source": [
    "states = [1, 2]\n",
    "P = [[0,7, 0.3],\n",
    "     [0.05, 0.95]]\n",
    "C = [[10, 30],\n",
    "     [20, 5]]\n",
    "\n",
    "initial_v = {\n",
    "    1:0,\n",
    "    2:0\n",
    "}\n",
    "gamma = 0.8\n",
    "\n",
    "value_iteration = ValueIterationSimulator(states, P, C, gamma, initial_v)\n",
    "value_iteration.start(num_of_iterations=50)"
   ]
  },
  {
   "cell_type": "code",
   "execution_count": 17,
   "metadata": {},
   "outputs": [
    {
     "name": "stdout",
     "output_type": "stream",
     "text": [
      "defaultdict(<class 'dict'>, {0: {1: 0, 2: 0}, 1: {1: 20.0, 2: 12.5}, 2: {1: 480.0, 2: 382.5}, 3: {1: 13040.0, 2: 9222.5}, 4: {1: 325680.0, 2: 245542.5}, 5: {1: 8498480.0, 2: 6193062.5}, 6: {1: 216621360.0, 2: 160747942.5}, 7: {1: 5590921520.0, 2: 4108933542.5}, 8: {1: 143341777200.0, 2: 105890478502.5}, 9: {1: 3688105701680.0, 2: 2717030349222.5}, 10: {1: 94713573994800.0, 2: 69877812623782.5}, 11: {1: 2434776094929200.0, 2: 1794928434411942.5}, 12: {1: 6.255649118532024e+16, 2: 4.613613125651499e+16}, 13: {1: 1.607719079638922e+18, 2: 1.185448383991184e+18}, 14: {1: 4.131251385289979e+19, 2: 3.046529881018749e+19}, 15: {1: 1.0616672822676981e+21, 2: 7.828614168871466e+20}, 16: {1: 2.7282012263433105e+22, 2: 2.0118122183831757e+22}, 17: {1: 7.010910305194271e+23, 2: 5.169846849502567e+23}, 18: {1: 1.8016360682961578e+25, 2: 1.3285395228111862e+25}, 19: {1: 4.6298037093837734e+26, 2: 3.4140335183983265e+26}, 20: {1: 1.1897523411663002e+28, 2: 8.773299342373369e+27}, 21: {1: 3.057393715102649e+29, 2: 2.2545357195610152e+29}, 22: {1: 7.856800699028557e+30, 2: 5.793644231988644e+30}, 23: {1: 2.0190186715995593e+32, 2: 1.4888338811241149e+32}, 24: {1: 5.1884162519775235e+33, 2: 3.825963427008941e+33}, 25: {1: 1.3333045226403479e+35, 2: 9.831851373967613e+34}, 26: {1: 3.426287947864506e+36, 2: 2.5265612911832615e+36}, 27: {1: 8.804777457131432e+37, 2: 6.492685233056514e+37}, 28: {1: 2.262626652504078e+39, 2: 1.6684718024632898e+39}, 29: {1: 5.814433647915157e+40, 2: 4.2875913649918406e+40}, 30: {1: 1.4941766194312544e+42, 2: 1.1018130382660989e+42}, 31: {1: 3.8396925873836404e+43, 2: 2.8314078063964466e+43}, 32: {1: 9.867132805258385e+44, 2: 7.276071262372403e+44}, 33: {1: 2.5356277273900477e+46, 2: 1.8697840993362378e+46}, 34: {1: 6.515984020319009e+47, 2: 4.804918003558571e+47}, 35: {1: 1.6744590424795778e+49, 2: 1.2347541633933843e+49}, 36: {1: 4.302977226127784e+50, 2: 3.1730361333246785e+50}, 37: {1: 1.1057668500881458e+52, 2: 8.153978015134328e+51}, 38: {1: 2.8415682037027553e+53, 2: 2.095386080746406e+53}, 39: {1: 7.302181156753579e+54, 2: 5.384663558222971e+54}, 40: {1: 1.8764937465137994e+56, 2: 1.3837355274094915e+56}, 41: {1: 4.82216026299382e+57, 2: 3.555884205385876e+57}, 42: {1: 1.2391850303321162e+59, 2: 9.137810102944462e+58}, 43: {1: 3.1844224489723638e+60, 2: 2.3482084526491644e+60}, 44: {1: 8.183238245535886e+61, 2: 6.034359299415447e+61}, 45: {1: 2.102905291502578e+63, 2: 1.5506924912623597e+63}, 46: {1: 5.403986212231725e+64, 2: 3.9849254629090693e+64}, 47: {1: 1.3887010080767146e+66, 2: 1.024034812473439e+66}, 48: {1: 3.5686443563976255e+67, 2: 2.631535537912119e+67}, 49: {1: 9.170600776107187e+68, 2: 6.762445185401049e+68}, 50: {1: 2.3566349065848268e+70, 2: 1.7377939315931917e+70}})\n"
     ]
    }
   ],
   "source": [
    "print(value_iteration.v)"
   ]
  },
  {
   "cell_type": "code",
   "execution_count": null,
   "metadata": {},
   "outputs": [],
   "source": []
  }
 ],
 "metadata": {
  "kernelspec": {
   "display_name": "Python 3",
   "language": "python",
   "name": "python3"
  },
  "language_info": {
   "codemirror_mode": {
    "name": "ipython",
    "version": 3
   },
   "file_extension": ".py",
   "mimetype": "text/x-python",
   "name": "python",
   "nbconvert_exporter": "python",
   "pygments_lexer": "ipython3",
   "version": "3.6.3"
  }
 },
 "nbformat": 4,
 "nbformat_minor": 2
}
