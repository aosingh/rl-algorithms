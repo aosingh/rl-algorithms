{
 "cells": [
  {
   "cell_type": "code",
   "execution_count": 61,
   "metadata": {},
   "outputs": [],
   "source": [
    "%matplotlib inline"
   ]
  },
  {
   "cell_type": "markdown",
   "metadata": {},
   "source": [
    "## Value iteration \n",
    "\n",
    "Value iteration is a method of computing the value of an optimal policy.\n",
    "The basic algorithm is given below"
   ]
  },
  {
   "cell_type": "markdown",
   "metadata": {},
   "source": [
    "Let \n",
    "1. $S$ be the set of states, \n",
    "2. $v$ be the value function. We denote the $i^{th}$ iteration of the value function using $v^i$.\n",
    "3. $C(s, a)$ denote the contribution function which is a function of the state s and action(decision) a. It returns the reward in state s when the agent takes action a\n",
    "4. $\\gamma$ denote the discount factor $0 < \\gamma < 1$"
   ]
  },
  {
   "cell_type": "markdown",
   "metadata": {},
   "source": [
    "\n",
    "\n",
    "**Step 0. Initialization**:\n",
    "\\begin{align}\n",
    "        \\text{Set }v^0(s) = 0  :      \\forall{s} \\text{ }\\epsilon\\text{ }S\n",
    "\\end{align}\n",
    "\\begin{align}\n",
    "         \\text{Fix a tolerance parameter } \\epsilon > 0\n",
    "\\end{align}\n",
    "        "
   ]
  },
  {
   "cell_type": "markdown",
   "metadata": {},
   "source": [
    "**Step 1. For each ${s} \\text{ }\\epsilon\\text{ }S$:**\n",
    "\\begin{align}\n",
    "    v^n(s) = max_{a \\text{ }\\epsilon\\text{ }A}(C(s, a) + \\gamma \\sum_{s^{\\prime} \\text{ }\\epsilon\\text{ }S} P(s^{\\prime} |s, a)v^{n-1}(s^{\\prime}))\n",
    "\\end{align}"
   ]
  },
  {
   "cell_type": "markdown",
   "metadata": {},
   "source": [
    "**Step 2.**\n",
    "\\begin{align}\n",
    "   \\text{if } || v^{n} - v^{n-1}|| < \\epsilon(1 - \\gamma)/2\\gamma \\text{, let } \\pi_{\\epsilon} \\text{ be the resulting policy which solves the equation mentioned at Step 1, and let } v_{\\epsilon} = v_{n} \\text{ and stop.}\n",
    "\\end{align}\n",
    "\\begin{align}\n",
    "    \\text{else set } n = n + 1 \\text{ and go to Step 1}\n",
    "\\end{align}"
   ]
  },
  {
   "cell_type": "markdown",
   "metadata": {},
   "source": [
    "Please note that we stop the algorithm when $$|| v^{n} - v^{n-1}|| < \\epsilon(1 - \\gamma)/2\\gamma $$\n",
    "This is when the value function converges"
   ]
  },
  {
   "cell_type": "markdown",
   "metadata": {},
   "source": [
    "Here $||v||$ is the max-norm defined by $$||v|| = max_{s}|v(s)|$$"
   ]
  },
  {
   "cell_type": "markdown",
   "metadata": {},
   "source": [
    "**Example**\n",
    "\n",
    "Consider a 2 stage Markov chain with the following one step transition matrix\n",
    "\n",
    "\\begin{equation*}\n",
    "    P = \\begin{vmatrix}\n",
    "    0.7 & 0.3 \\\\\n",
    "    0.05 & 0.95\n",
    "    \\end{vmatrix}\n",
    "\\end{equation*}"
   ]
  },
  {
   "cell_type": "markdown",
   "metadata": {},
   "source": [
    "The Contribution from each transition from state $i \\text{ } \\epsilon \\{1, 2\\}$ to state $j \\text{ } \\epsilon \\{1, 2\\}$ is"
   ]
  },
  {
   "cell_type": "markdown",
   "metadata": {},
   "source": [
    "\\begin{equation*}\n",
    "C = \\begin{vmatrix}\n",
    "10 & 30 \\\\\n",
    "20 & 5\n",
    "\\end{vmatrix}\n",
    "\\end{equation*}"
   ]
  },
  {
   "cell_type": "markdown",
   "metadata": {},
   "source": [
    "Let us apply the value iteration algorithm for an infinite horizon problem. \n",
    "Please note that, for this exercise, we are not choosing a decision so, there won't be any maximisation step."
   ]
  },
  {
   "cell_type": "code",
   "execution_count": 70,
   "metadata": {},
   "outputs": [],
   "source": [
    "import matplotlib.pyplot as plt\n",
    "from collections import defaultdict\n",
    "\n",
    "class ValueIterationSimulator:\n",
    "    \"\"\"\n",
    "    This class is a simulation of the steps that we do to perform Value iteration.\n",
    "    \"\"\"\n",
    "    def __init__(self, states, C, P, gamma, initial_v):\n",
    "        \"\"\"\n",
    "        States : List(int) = A sequence of states. For e.g. [1, 2]\n",
    "        \n",
    "        C : List[List(int)] = The Contribution from each transition within the states. \n",
    "                              So, for n states this will n x n matrix\n",
    "        \n",
    "        P : List[List(int)] = The transition probablity matrix. \n",
    "        \n",
    "        gamma : int = Discount factor.\n",
    "        \n",
    "        initial_v : dict(int, int) = The initial estimate of the value function for each state. \n",
    "        \n",
    "        \"\"\"\n",
    "        self.states = states\n",
    "        self.C = C \n",
    "        self.P = P\n",
    "        self.gamma = gamma \n",
    "        self.v = defaultdict(dict)\n",
    "        # Set the initial estimate of the value function for each state\n",
    "        for state, init_estimate in initial_v.items():\n",
    "            self.v[0][state] = init_estimate\n",
    "    \n",
    "    def start(self, num_of_iterations=50):\n",
    "        for i in range(1, num_of_iterations+1):\n",
    "            for x in self.states:\n",
    "                expected_contribution = sum(C[x-1])/len(C[x-1])\n",
    "                expected_values = self.gamma * sum([self.P[x-1][y-1]*self.v[i-1][y] for y in self.states])\n",
    "                self.v[i][x] = expected_contribution + expected_values\n",
    "    \n",
    "    \n",
    "    def plot_value_function(self, state=1, num_of_values=50):\n",
    "        X = [x for x in range(0, num_of_values+1)]\n",
    "        Y = [value[state] for k, value in self.v.items()][0:num_of_values+1]\n",
    "        plt.plot(X, Y, 'ro')\n",
    "        plt.show()"
   ]
  },
  {
   "cell_type": "code",
   "execution_count": 75,
   "metadata": {},
   "outputs": [
    {
     "data": {
      "image/png": "[encoded data removed]",
      "text/plain": [
       "<matplotlib.figure.Figure at 0x10a311940>"
      ]
     },
     "metadata": {},
     "output_type": "display_data"
    }
   ],
   "source": [
    "states = [1, 2]\n",
    "P = [[0,7, 0.3],\n",
    "     [0.05, 0.95]]\n",
    "C = [[10, 30],\n",
    "     [20, 5]]\n",
    "\n",
    "initial_v = {\n",
    "    1:0,\n",
    "    2:1000\n",
    "}\n",
    "gamma = 0.8\n",
    "\n",
    "value_iteration = ValueIterationSimulator(states, C, P, gamma, initial_v)\n",
    "value_iteration.start(num_of_iterations=1000)\n",
    "value_iteration.plot_value_function(state=2, num_of_values=1000)"
   ]
  },
  {
   "cell_type": "code",
   "execution_count": null,
   "metadata": {},
   "outputs": [],
   "source": []
  }
 ],
 "metadata": {
  "kernelspec": {
   "display_name": "Python 3",
   "language": "python",
   "name": "python3"
  },
  "language_info": {
   "codemirror_mode": {
    "name": "ipython",
    "version": 3
   },
   "file_extension": ".py",
   "mimetype": "text/x-python",
   "name": "python",
   "nbconvert_exporter": "python",
   "pygments_lexer": "ipython3",
   "version": "3.6.3"
  }
 },
 "nbformat": 4,
 "nbformat_minor": 2
}
